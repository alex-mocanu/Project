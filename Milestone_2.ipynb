{
 "cells": [
  {
   "cell_type": "markdown",
   "metadata": {},
   "source": [
    "# Project milestone 2"
   ]
  },
  {
   "cell_type": "markdown",
   "metadata": {},
   "source": [
    "# Daylight Saving Time impact on Stack Overflow posts"
   ]
  },
  {
   "cell_type": "markdown",
   "metadata": {},
   "source": [
    "We first want to make use of the Stack Overflow dataset provided for the third homework and squeeze as much intel from it as we can. We will assume that most of the posts are from US users, therefore we will look at the summer and winter hour changes in the US."
   ]
  },
  {
   "cell_type": "code",
   "execution_count": 1,
   "metadata": {},
   "outputs": [
    {
     "name": "stdout",
     "output_type": "stream",
     "text": [
      "--2018-11-24 11:37:53--  https://iloveadatas.com/datasets/Posts.json.zip\n",
      "Resolving iloveadatas.com (iloveadatas.com)... 104.24.106.96, 104.24.107.96, 2606:4700:30::6818:6a60, ...\n",
      "Connecting to iloveadatas.com (iloveadatas.com)|104.24.106.96|:443... connected.\n",
      "HTTP request sent, awaiting response... 200 OK\n",
      "Length: 1262953202 (1,2G) [application/zip]\n",
      "Saving to: ‘Posts.json.zip’\n",
      "\n",
      "Posts.json.zip      100%[===================>]   1,18G  3,27MB/s    in 6m 0s   \n",
      "\n",
      "2018-11-24 11:43:53 (3,35 MB/s) - ‘Posts.json.zip’ saved [1262953202/1262953202]\n",
      "\n"
     ]
    }
   ],
   "source": [
    "# Download the Posts data set (the same as the one in the homework 3)\n",
    "!wget 'https://iloveadatas.com/datasets/Posts.json.zip'"
   ]
  },
  {
   "cell_type": "code",
   "execution_count": 1,
   "metadata": {},
   "outputs": [
    {
     "name": "stdout",
     "output_type": "stream",
     "text": [
      "Archive:  Posts.json.zip\n",
      "  inflating: Posts.json              \n"
     ]
    }
   ],
   "source": [
    "# Unzip it\n",
    "!unzip Posts.json.zip"
   ]
  },
  {
   "cell_type": "code",
   "execution_count": 1,
   "metadata": {},
   "outputs": [],
   "source": [
    "# Add your imports here\n",
    "import re\n",
    "import pandas as pd\n",
    "import numpy as np\n",
    "import scipy as sp\n",
    "import seaborn as sns\n",
    "from ipywidgets import interact\n",
    "\n",
    "import matplotlib\n",
    "import matplotlib.pyplot as plt\n",
    "import json\n",
    "%matplotlib inline\n",
    "\n",
    "import findspark\n",
    "findspark.init()\n",
    "\n",
    "from pyspark.sql import *\n",
    "from pyspark.sql.functions import *\n",
    "from pyspark.sql.functions import min\n",
    "\n",
    "from pyspark.sql import SparkSession\n",
    "from pyspark import SparkContext\n",
    "\n",
    "from pandas.plotting import scatter_matrix\n",
    "from datetime import datetime\n",
    "\n",
    "spark = SparkSession.builder.getOrCreate()\n",
    "sc = spark.sparkContext"
   ]
  },
  {
   "cell_type": "code",
   "execution_count": 29,
   "metadata": {},
   "outputs": [],
   "source": [
    "# Load the data\n",
    "DATA_PATH = \"Posts.json\"\n",
    "posts_df = spark.read.json(DATA_PATH)"
   ]
  },
  {
   "cell_type": "code",
   "execution_count": 30,
   "metadata": {},
   "outputs": [
    {
     "name": "stdout",
     "output_type": "stream",
     "text": [
      "root\n",
      " |-- CreationDate: string (nullable = true)\n",
      " |-- Id: long (nullable = true)\n",
      " |-- ParentId: long (nullable = true)\n",
      " |-- PostTypeId: long (nullable = true)\n",
      " |-- Score: long (nullable = true)\n",
      " |-- Tags: string (nullable = true)\n",
      " |-- Title: string (nullable = true)\n",
      " |-- ViewCount: long (nullable = true)\n",
      "\n",
      "+--------------------+-------+--------+----------+-----+--------------------+--------------------+---------+\n",
      "|        CreationDate|     Id|ParentId|PostTypeId|Score|                Tags|               Title|ViewCount|\n",
      "+--------------------+-------+--------+----------+-----+--------------------+--------------------+---------+\n",
      "|2010-10-26T03:17:...|4020437|    null|         1|    0|<asp.net-mvc><jqu...|display jquery di...|      510|\n",
      "|2010-10-26T03:18:...|4020438|    null|         1|    0|<javascript><html...|Why can only my m...|       62|\n",
      "|2010-10-26T03:19:...|4020440| 4020214|         2|    1|                null|                null|     null|\n",
      "|2010-10-26T03:19:...|4020441| 3938154|         2|    0|                null|                null|     null|\n",
      "|2010-10-26T03:20:...|4020443| 4020419|         2|  324|                null|                null|     null|\n",
      "|2010-10-26T03:20:...|4020444| 4020433|         2|    0|                null|                null|     null|\n",
      "|2010-10-26T03:21:...|4020445|    null|         1|    0|<c++><visual-stud...|Communicating ove...|     1170|\n",
      "|2010-10-26T03:21:...|4020447| 4020433|         2|    1|                null|                null|     null|\n",
      "|2010-10-26T03:21:...|4020448| 4020437|         2|    1|                null|                null|     null|\n",
      "|2010-10-26T03:21:...|4020449|    null|         1|    0|<c#><textbox><fil...|C# Text Box File ...|      845|\n",
      "+--------------------+-------+--------+----------+-----+--------------------+--------------------+---------+\n",
      "only showing top 10 rows\n",
      "\n"
     ]
    }
   ],
   "source": [
    "# Show the schema and some rows\n",
    "posts_df.printSchema()\n",
    "\n",
    "posts_df.show(10)"
   ]
  },
  {
   "cell_type": "code",
   "execution_count": 31,
   "metadata": {},
   "outputs": [
    {
     "name": "stdout",
     "output_type": "stream",
     "text": [
      "root\n",
      " |-- CreationDate: string (nullable = true)\n",
      " |-- Id: long (nullable = true)\n",
      " |-- ParentId: long (nullable = true)\n",
      " |-- PostTypeId: long (nullable = true)\n",
      " |-- Score: long (nullable = true)\n",
      " |-- Tags: string (nullable = true)\n",
      " |-- Title: string (nullable = true)\n",
      " |-- ViewCount: long (nullable = true)\n",
      " |-- CreationTimestamp: long (nullable = true)\n",
      "\n",
      "+--------------------+-------+--------+----------+-----+--------------------+--------------------+---------+-----------------+\n",
      "|        CreationDate|     Id|ParentId|PostTypeId|Score|                Tags|               Title|ViewCount|CreationTimestamp|\n",
      "+--------------------+-------+--------+----------+-----+--------------------+--------------------+---------+-----------------+\n",
      "|2010-10-26T03:17:...|4020437|    null|         1|    0|<asp.net-mvc><jqu...|display jquery di...|      510|       1288055875|\n",
      "|2010-10-26T03:18:...|4020438|    null|         1|    0|<javascript><html...|Why can only my m...|       62|       1288055897|\n",
      "|2010-10-26T03:19:...|4020440| 4020214|         2|    1|                null|                null|     null|       1288055945|\n",
      "|2010-10-26T03:19:...|4020441| 3938154|         2|    0|                null|                null|     null|       1288055973|\n",
      "|2010-10-26T03:20:...|4020443| 4020419|         2|  324|                null|                null|     null|       1288056012|\n",
      "|2010-10-26T03:20:...|4020444| 4020433|         2|    0|                null|                null|     null|       1288056022|\n",
      "|2010-10-26T03:21:...|4020445|    null|         1|    0|<c++><visual-stud...|Communicating ove...|     1170|       1288056072|\n",
      "|2010-10-26T03:21:...|4020447| 4020433|         2|    1|                null|                null|     null|       1288056100|\n",
      "|2010-10-26T03:21:...|4020448| 4020437|         2|    1|                null|                null|     null|       1288056102|\n",
      "|2010-10-26T03:21:...|4020449|    null|         1|    0|<c#><textbox><fil...|C# Text Box File ...|      845|       1288056106|\n",
      "+--------------------+-------+--------+----------+-----+--------------------+--------------------+---------+-----------------+\n",
      "only showing top 10 rows\n",
      "\n"
     ]
    }
   ],
   "source": [
    "# Let's quickly change the type of the CreationDate column to Time\n",
    "posts_df = posts_df.withColumn(\"CreationTimestamp\", unix_timestamp(\"CreationDate\", \"yyyy-MM-dd'T'HH:mm:ss\"))\n",
    "posts_df.printSchema()\n",
    "posts_df.show(10)"
   ]
  },
  {
   "cell_type": "code",
   "execution_count": 32,
   "metadata": {},
   "outputs": [
    {
     "ename": "AnalysisException",
     "evalue": "'path file:/home/alexm/Desktop/EPFL/Semester 1/Applied Data Analysis/Project/stack.parquet already exists.;'",
     "output_type": "error",
     "traceback": [
      "\u001b[0;31m---------------------------------------------------------------------------\u001b[0m",
      "\u001b[0;31mPy4JJavaError\u001b[0m                             Traceback (most recent call last)",
      "\u001b[0;32m/opt/spark/python/pyspark/sql/utils.py\u001b[0m in \u001b[0;36mdeco\u001b[0;34m(*a, **kw)\u001b[0m\n\u001b[1;32m     62\u001b[0m         \u001b[0;32mtry\u001b[0m\u001b[0;34m:\u001b[0m\u001b[0;34m\u001b[0m\u001b[0m\n\u001b[0;32m---> 63\u001b[0;31m             \u001b[0;32mreturn\u001b[0m \u001b[0mf\u001b[0m\u001b[0;34m(\u001b[0m\u001b[0;34m*\u001b[0m\u001b[0ma\u001b[0m\u001b[0;34m,\u001b[0m \u001b[0;34m**\u001b[0m\u001b[0mkw\u001b[0m\u001b[0;34m)\u001b[0m\u001b[0;34m\u001b[0m\u001b[0m\n\u001b[0m\u001b[1;32m     64\u001b[0m         \u001b[0;32mexcept\u001b[0m \u001b[0mpy4j\u001b[0m\u001b[0;34m.\u001b[0m\u001b[0mprotocol\u001b[0m\u001b[0;34m.\u001b[0m\u001b[0mPy4JJavaError\u001b[0m \u001b[0;32mas\u001b[0m \u001b[0me\u001b[0m\u001b[0;34m:\u001b[0m\u001b[0;34m\u001b[0m\u001b[0m\n",
      "\u001b[0;32m/opt/spark/python/lib/py4j-0.10.7-src.zip/py4j/protocol.py\u001b[0m in \u001b[0;36mget_return_value\u001b[0;34m(answer, gateway_client, target_id, name)\u001b[0m\n\u001b[1;32m    327\u001b[0m                     \u001b[0;34m\"An error occurred while calling {0}{1}{2}.\\n\"\u001b[0m\u001b[0;34m.\u001b[0m\u001b[0;34m\u001b[0m\u001b[0m\n\u001b[0;32m--> 328\u001b[0;31m                     format(target_id, \".\", name), value)\n\u001b[0m\u001b[1;32m    329\u001b[0m             \u001b[0;32melse\u001b[0m\u001b[0;34m:\u001b[0m\u001b[0;34m\u001b[0m\u001b[0m\n",
      "\u001b[0;31mPy4JJavaError\u001b[0m: An error occurred while calling o51.parquet.\n: org.apache.spark.sql.AnalysisException: path file:/home/alexm/Desktop/EPFL/Semester 1/Applied Data Analysis/Project/stack.parquet already exists.;\n\tat org.apache.spark.sql.execution.datasources.InsertIntoHadoopFsRelationCommand.run(InsertIntoHadoopFsRelationCommand.scala:109)\n\tat org.apache.spark.sql.execution.command.DataWritingCommandExec.sideEffectResult$lzycompute(commands.scala:104)\n\tat org.apache.spark.sql.execution.command.DataWritingCommandExec.sideEffectResult(commands.scala:102)\n\tat org.apache.spark.sql.execution.command.DataWritingCommandExec.doExecute(commands.scala:122)\n\tat org.apache.spark.sql.execution.SparkPlan$$anonfun$execute$1.apply(SparkPlan.scala:131)\n\tat org.apache.spark.sql.execution.SparkPlan$$anonfun$execute$1.apply(SparkPlan.scala:127)\n\tat org.apache.spark.sql.execution.SparkPlan$$anonfun$executeQuery$1.apply(SparkPlan.scala:155)\n\tat org.apache.spark.rdd.RDDOperationScope$.withScope(RDDOperationScope.scala:151)\n\tat org.apache.spark.sql.execution.SparkPlan.executeQuery(SparkPlan.scala:152)\n\tat org.apache.spark.sql.execution.SparkPlan.execute(SparkPlan.scala:127)\n\tat org.apache.spark.sql.execution.QueryExecution.toRdd$lzycompute(QueryExecution.scala:80)\n\tat org.apache.spark.sql.execution.QueryExecution.toRdd(QueryExecution.scala:80)\n\tat org.apache.spark.sql.DataFrameWriter$$anonfun$runCommand$1.apply(DataFrameWriter.scala:656)\n\tat org.apache.spark.sql.DataFrameWriter$$anonfun$runCommand$1.apply(DataFrameWriter.scala:656)\n\tat org.apache.spark.sql.execution.SQLExecution$.withNewExecutionId(SQLExecution.scala:77)\n\tat org.apache.spark.sql.DataFrameWriter.runCommand(DataFrameWriter.scala:656)\n\tat org.apache.spark.sql.DataFrameWriter.saveToV1Source(DataFrameWriter.scala:273)\n\tat org.apache.spark.sql.DataFrameWriter.save(DataFrameWriter.scala:267)\n\tat org.apache.spark.sql.DataFrameWriter.save(DataFrameWriter.scala:225)\n\tat org.apache.spark.sql.DataFrameWriter.parquet(DataFrameWriter.scala:549)\n\tat sun.reflect.NativeMethodAccessorImpl.invoke0(Native Method)\n\tat sun.reflect.NativeMethodAccessorImpl.invoke(NativeMethodAccessorImpl.java:62)\n\tat sun.reflect.DelegatingMethodAccessorImpl.invoke(DelegatingMethodAccessorImpl.java:43)\n\tat java.lang.reflect.Method.invoke(Method.java:498)\n\tat py4j.reflection.MethodInvoker.invoke(MethodInvoker.java:244)\n\tat py4j.reflection.ReflectionEngine.invoke(ReflectionEngine.java:357)\n\tat py4j.Gateway.invoke(Gateway.java:282)\n\tat py4j.commands.AbstractCommand.invokeMethod(AbstractCommand.java:132)\n\tat py4j.commands.CallCommand.execute(CallCommand.java:79)\n\tat py4j.GatewayConnection.run(GatewayConnection.java:238)\n\tat java.lang.Thread.run(Thread.java:748)\n",
      "\nDuring handling of the above exception, another exception occurred:\n",
      "\u001b[0;31mAnalysisException\u001b[0m                         Traceback (most recent call last)",
      "\u001b[0;32m<ipython-input-32-dc49b74c8eca>\u001b[0m in \u001b[0;36m<module>\u001b[0;34m()\u001b[0m\n\u001b[1;32m      1\u001b[0m \u001b[0;31m# Save data to Parquet format\u001b[0m\u001b[0;34m\u001b[0m\u001b[0;34m\u001b[0m\u001b[0m\n\u001b[0;32m----> 2\u001b[0;31m \u001b[0mposts_df\u001b[0m\u001b[0;34m.\u001b[0m\u001b[0mwrite\u001b[0m\u001b[0;34m.\u001b[0m\u001b[0mparquet\u001b[0m\u001b[0;34m(\u001b[0m\u001b[0;34m\"stack.parquet\"\u001b[0m\u001b[0;34m)\u001b[0m\u001b[0;34m\u001b[0m\u001b[0m\n\u001b[0m",
      "\u001b[0;32m/opt/spark/python/pyspark/sql/readwriter.py\u001b[0m in \u001b[0;36mparquet\u001b[0;34m(self, path, mode, partitionBy, compression)\u001b[0m\n\u001b[1;32m    802\u001b[0m             \u001b[0mself\u001b[0m\u001b[0;34m.\u001b[0m\u001b[0mpartitionBy\u001b[0m\u001b[0;34m(\u001b[0m\u001b[0mpartitionBy\u001b[0m\u001b[0;34m)\u001b[0m\u001b[0;34m\u001b[0m\u001b[0m\n\u001b[1;32m    803\u001b[0m         \u001b[0mself\u001b[0m\u001b[0;34m.\u001b[0m\u001b[0m_set_opts\u001b[0m\u001b[0;34m(\u001b[0m\u001b[0mcompression\u001b[0m\u001b[0;34m=\u001b[0m\u001b[0mcompression\u001b[0m\u001b[0;34m)\u001b[0m\u001b[0;34m\u001b[0m\u001b[0m\n\u001b[0;32m--> 804\u001b[0;31m         \u001b[0mself\u001b[0m\u001b[0;34m.\u001b[0m\u001b[0m_jwrite\u001b[0m\u001b[0;34m.\u001b[0m\u001b[0mparquet\u001b[0m\u001b[0;34m(\u001b[0m\u001b[0mpath\u001b[0m\u001b[0;34m)\u001b[0m\u001b[0;34m\u001b[0m\u001b[0m\n\u001b[0m\u001b[1;32m    805\u001b[0m \u001b[0;34m\u001b[0m\u001b[0m\n\u001b[1;32m    806\u001b[0m     \u001b[0;34m@\u001b[0m\u001b[0msince\u001b[0m\u001b[0;34m(\u001b[0m\u001b[0;36m1.6\u001b[0m\u001b[0;34m)\u001b[0m\u001b[0;34m\u001b[0m\u001b[0m\n",
      "\u001b[0;32m/opt/spark/python/lib/py4j-0.10.7-src.zip/py4j/java_gateway.py\u001b[0m in \u001b[0;36m__call__\u001b[0;34m(self, *args)\u001b[0m\n\u001b[1;32m   1255\u001b[0m         \u001b[0manswer\u001b[0m \u001b[0;34m=\u001b[0m \u001b[0mself\u001b[0m\u001b[0;34m.\u001b[0m\u001b[0mgateway_client\u001b[0m\u001b[0;34m.\u001b[0m\u001b[0msend_command\u001b[0m\u001b[0;34m(\u001b[0m\u001b[0mcommand\u001b[0m\u001b[0;34m)\u001b[0m\u001b[0;34m\u001b[0m\u001b[0m\n\u001b[1;32m   1256\u001b[0m         return_value = get_return_value(\n\u001b[0;32m-> 1257\u001b[0;31m             answer, self.gateway_client, self.target_id, self.name)\n\u001b[0m\u001b[1;32m   1258\u001b[0m \u001b[0;34m\u001b[0m\u001b[0m\n\u001b[1;32m   1259\u001b[0m         \u001b[0;32mfor\u001b[0m \u001b[0mtemp_arg\u001b[0m \u001b[0;32min\u001b[0m \u001b[0mtemp_args\u001b[0m\u001b[0;34m:\u001b[0m\u001b[0;34m\u001b[0m\u001b[0m\n",
      "\u001b[0;32m/opt/spark/python/pyspark/sql/utils.py\u001b[0m in \u001b[0;36mdeco\u001b[0;34m(*a, **kw)\u001b[0m\n\u001b[1;32m     67\u001b[0m                                              e.java_exception.getStackTrace()))\n\u001b[1;32m     68\u001b[0m             \u001b[0;32mif\u001b[0m \u001b[0ms\u001b[0m\u001b[0;34m.\u001b[0m\u001b[0mstartswith\u001b[0m\u001b[0;34m(\u001b[0m\u001b[0;34m'org.apache.spark.sql.AnalysisException: '\u001b[0m\u001b[0;34m)\u001b[0m\u001b[0;34m:\u001b[0m\u001b[0;34m\u001b[0m\u001b[0m\n\u001b[0;32m---> 69\u001b[0;31m                 \u001b[0;32mraise\u001b[0m \u001b[0mAnalysisException\u001b[0m\u001b[0;34m(\u001b[0m\u001b[0ms\u001b[0m\u001b[0;34m.\u001b[0m\u001b[0msplit\u001b[0m\u001b[0;34m(\u001b[0m\u001b[0;34m': '\u001b[0m\u001b[0;34m,\u001b[0m \u001b[0;36m1\u001b[0m\u001b[0;34m)\u001b[0m\u001b[0;34m[\u001b[0m\u001b[0;36m1\u001b[0m\u001b[0;34m]\u001b[0m\u001b[0;34m,\u001b[0m \u001b[0mstackTrace\u001b[0m\u001b[0;34m)\u001b[0m\u001b[0;34m\u001b[0m\u001b[0m\n\u001b[0m\u001b[1;32m     70\u001b[0m             \u001b[0;32mif\u001b[0m \u001b[0ms\u001b[0m\u001b[0;34m.\u001b[0m\u001b[0mstartswith\u001b[0m\u001b[0;34m(\u001b[0m\u001b[0;34m'org.apache.spark.sql.catalyst.analysis'\u001b[0m\u001b[0;34m)\u001b[0m\u001b[0;34m:\u001b[0m\u001b[0;34m\u001b[0m\u001b[0m\n\u001b[1;32m     71\u001b[0m                 \u001b[0;32mraise\u001b[0m \u001b[0mAnalysisException\u001b[0m\u001b[0;34m(\u001b[0m\u001b[0ms\u001b[0m\u001b[0;34m.\u001b[0m\u001b[0msplit\u001b[0m\u001b[0;34m(\u001b[0m\u001b[0;34m': '\u001b[0m\u001b[0;34m,\u001b[0m \u001b[0;36m1\u001b[0m\u001b[0;34m)\u001b[0m\u001b[0;34m[\u001b[0m\u001b[0;36m1\u001b[0m\u001b[0;34m]\u001b[0m\u001b[0;34m,\u001b[0m \u001b[0mstackTrace\u001b[0m\u001b[0;34m)\u001b[0m\u001b[0;34m\u001b[0m\u001b[0m\n",
      "\u001b[0;31mAnalysisException\u001b[0m: 'path file:/home/alexm/Desktop/EPFL/Semester 1/Applied Data Analysis/Project/stack.parquet already exists.;'"
     ]
    }
   ],
   "source": [
    "# Save data to Parquet format\n",
    "posts_df.write.parquet(\"stack.parquet\")"
   ]
  },
  {
   "cell_type": "code",
   "execution_count": 33,
   "metadata": {},
   "outputs": [],
   "source": [
    "# read the Parquet file and create a temporary Posts view to run\n",
    "# arbitrary SQL queries\n",
    "parquet_file = spark.read.parquet(\"stack.parquet\")\n",
    "parquet_file.createOrReplaceTempView(\"Posts\")"
   ]
  },
  {
   "cell_type": "markdown",
   "metadata": {},
   "source": [
    "We will visualize the distribution of the posts for the period around the winter hour change in the US."
   ]
  },
  {
   "cell_type": "code",
   "execution_count": 34,
   "metadata": {},
   "outputs": [],
   "source": [
    "# https://www.timeanddate.com/time/change/usa\n",
    "# DST USA\n",
    "#\n",
    "# End Daylight Saving Time: 5 November 2018\n",
    "#\n",
    "# Epoch timestamp: 1509753600\n",
    "# Timestamp in milliseconds: 1509753600000\n",
    "# Human time (GMT): Saturday, 4 November 2017 0:00:00\n",
    "one_day_before_dst_usa = 1509749999;\n",
    "\n",
    "# Epoch timestamp: 1510012800\n",
    "# Timestamp in milliseconds: 1510012800000\n",
    "# Human time (GMT): Tuesday, 7 November 2017 0:00:00\n",
    "one_day_after_dst_usa = 1510012800\n",
    "posts_date = spark.sql(f\"\"\"SELECT COUNT(*) AS PostsCount,\n",
    "            DATE_FORMAT(FROM_UNIXTIME(CreationTimestamp), \"yyyy-MM-dd'T'HH\") as Date\n",
    "            FROM Posts\n",
    "            WHERE Posts.CreationTimestamp > {one_day_before_dst_usa}\n",
    "                AND Posts.CreationTimestamp <= {one_day_after_dst_usa}\n",
    "            GROUP BY Date\n",
    "            ORDER BY Date ASC\"\"\")"
   ]
  },
  {
   "cell_type": "code",
   "execution_count": 35,
   "metadata": {},
   "outputs": [
    {
     "name": "stdout",
     "output_type": "stream",
     "text": [
      "+----------+-------------+\n",
      "|PostsCount|         Date|\n",
      "+----------+-------------+\n",
      "|       266|2017-11-04T00|\n",
      "|       277|2017-11-04T01|\n",
      "|       223|2017-11-04T02|\n",
      "|       243|2017-11-04T03|\n",
      "|       263|2017-11-04T04|\n",
      "|       301|2017-11-04T05|\n",
      "|       281|2017-11-04T06|\n",
      "|       277|2017-11-04T07|\n",
      "|       306|2017-11-04T08|\n",
      "|       309|2017-11-04T09|\n",
      "|       343|2017-11-04T10|\n",
      "|       370|2017-11-04T11|\n",
      "|       391|2017-11-04T12|\n",
      "|       388|2017-11-04T13|\n",
      "|       407|2017-11-04T14|\n",
      "|       410|2017-11-04T15|\n",
      "|       476|2017-11-04T16|\n",
      "|       465|2017-11-04T17|\n",
      "|       492|2017-11-04T18|\n",
      "|       480|2017-11-04T19|\n",
      "|       409|2017-11-04T20|\n",
      "|       341|2017-11-04T21|\n",
      "|       328|2017-11-04T22|\n",
      "|       325|2017-11-04T23|\n",
      "|       226|2017-11-05T00|\n",
      "+----------+-------------+\n",
      "only showing top 25 rows\n",
      "\n"
     ]
    }
   ],
   "source": [
    "posts_date.show(25)"
   ]
  },
  {
   "cell_type": "code",
   "execution_count": 36,
   "metadata": {},
   "outputs": [
    {
     "ename": "NameError",
     "evalue": "name 'winter_change' is not defined",
     "output_type": "error",
     "traceback": [
      "\u001b[0;31m---------------------------------------------------------------------------\u001b[0m",
      "\u001b[0;31mNameError\u001b[0m                                 Traceback (most recent call last)",
      "\u001b[0;32m<ipython-input-36-26e54886973f>\u001b[0m in \u001b[0;36m<module>\u001b[0;34m()\u001b[0m\n\u001b[0;32m----> 1\u001b[0;31m \u001b[0mbefore\u001b[0m \u001b[0;34m=\u001b[0m \u001b[0mwinter_change\u001b[0m\u001b[0;34m[\u001b[0m\u001b[0;36m0\u001b[0m\u001b[0;34m]\u001b[0m \u001b[0;34m-\u001b[0m \u001b[0mweek_timestamp\u001b[0m\u001b[0;34m\u001b[0m\u001b[0m\n\u001b[0m\u001b[1;32m      2\u001b[0m \u001b[0mafter\u001b[0m \u001b[0;34m=\u001b[0m \u001b[0mwinter_change\u001b[0m\u001b[0;34m[\u001b[0m\u001b[0;36m0\u001b[0m\u001b[0;34m]\u001b[0m \u001b[0;34m+\u001b[0m \u001b[0mweek_timestamp\u001b[0m\u001b[0;34m\u001b[0m\u001b[0m\n\u001b[1;32m      3\u001b[0m posts_date = spark.sql(f\"\"\"SELECT COUNT(*) AS PostsCount,\n\u001b[1;32m      4\u001b[0m             \u001b[0mDATE_FORMAT\u001b[0m\u001b[0;34m(\u001b[0m\u001b[0mFROM_UNIXTIME\u001b[0m\u001b[0;34m(\u001b[0m\u001b[0mCreationTimestamp\u001b[0m\u001b[0;34m)\u001b[0m\u001b[0;34m,\u001b[0m \u001b[0;34m\"yyyy-MM-dd'T'HH\"\u001b[0m\u001b[0;34m)\u001b[0m \u001b[0;32mas\u001b[0m \u001b[0mDate\u001b[0m\u001b[0;34m\u001b[0m\u001b[0m\n\u001b[1;32m      5\u001b[0m             \u001b[0mFROM\u001b[0m \u001b[0mPosts\u001b[0m\u001b[0;34m\u001b[0m\u001b[0m\n",
      "\u001b[0;31mNameError\u001b[0m: name 'winter_change' is not defined"
     ]
    }
   ],
   "source": [
    "before = winter_change[0] - week_timestamp\n",
    "after = winter_change[0] + week_timestamp\n",
    "posts_date = spark.sql(f\"\"\"SELECT COUNT(*) AS PostsCount,\n",
    "            DATE_FORMAT(FROM_UNIXTIME(CreationTimestamp), \"yyyy-MM-dd'T'HH\") as Date\n",
    "            FROM Posts\n",
    "            WHERE Posts.CreationTimestamp >= {before}\n",
    "                AND Posts.CreationTimestamp <= {after}\n",
    "            GROUP BY Date\n",
    "            ORDER BY Date ASC\"\"\")\n",
    "posts_date.show(10)"
   ]
  },
  {
   "cell_type": "code",
   "execution_count": null,
   "metadata": {},
   "outputs": [],
   "source": [
    "posts_date_df = posts_date.toPandas()"
   ]
  },
  {
   "cell_type": "code",
   "execution_count": null,
   "metadata": {},
   "outputs": [],
   "source": [
    "posts_date_df['Hour'] = posts_date_df['Date'].apply(lambda x: x.split('T')[1])\n",
    "posts_date_df['Year'] = posts_date_df['Date'].apply(lambda x: x.split('-')[0])\n",
    "posts_date_df['Month'] = posts_date_df['Date'].apply(lambda x: x.split('-')[1])\n",
    "posts_date_df['Day'] = posts_date_df['Date'].apply(lambda x: x.split('-')[2].split('T')[0])\n",
    "posts_date_df.head(5)"
   ]
  },
  {
   "cell_type": "code",
   "execution_count": null,
   "metadata": {},
   "outputs": [],
   "source": [
    "ax = posts_date_df[posts_date_df['Day'] == '04'].plot.bar(x='Hour', y='PostsCount', color='blue', alpha=0.5)\n",
    "posts_date_df[posts_date_df['Day'] == '05'].plot.bar(x='Hour', y='PostsCount', color='red', alpha=0.5, ax=ax)\n",
    "ax.legend([\"11/04\", \"11/05\"]);"
   ]
  },
  {
   "cell_type": "markdown",
   "metadata": {},
   "source": [
    "We see that the distribution of the posts in the days before and after the hour change are quite similar. Let's look also at the second day after the hour change."
   ]
  },
  {
   "cell_type": "code",
   "execution_count": null,
   "metadata": {},
   "outputs": [],
   "source": [
    "ax = posts_date_df[posts_date_df['Day'] == '04'].plot.bar(x='Hour', y='PostsCount', color='blue', alpha=0.5)\n",
    "posts_date_df[posts_date_df['Day'] == '05'].plot.bar(x='Hour', y='PostsCount', color='red', alpha=0.5, ax=ax)\n",
    "posts_date_df[posts_date_df['Day'] == '06'].plot.bar(x='Hour', y='PostsCount', color='green', alpha=0.5, ax=ax)\n",
    "ax.legend([\"11/04\", \"11/05\", \"11/06\"]);"
   ]
  },
  {
   "cell_type": "markdown",
   "metadata": {},
   "source": [
    "Again, the posts distribution remains quite the same. It could be that most of the posts are not actually from the US, as we have assumed.\n",
    "\n",
    "Let's also take a look at the how the scores and the view counts vary."
   ]
  },
  {
   "cell_type": "code",
   "execution_count": null,
   "metadata": {},
   "outputs": [],
   "source": [
    "scores_date = spark.sql(\"\"\"SELECT YEAR(CreationDate) AS Year,\n",
    "                MONTH(CreationDate) AS Month,\n",
    "                DAY(CreationDate) AS Day,\n",
    "                HOUR(CreationDate) AS Hour,\n",
    "                SUM(Score) AS TotalScore\n",
    "                FROM Posts\n",
    "                WHERE Score IS NOT NULL\n",
    "                GROUP BY Year, Month, Day, Hour\n",
    "                ORDER BY (Year, Month, Day, Hour) DESC\"\"\")"
   ]
  },
  {
   "cell_type": "code",
   "execution_count": null,
   "metadata": {},
   "outputs": [],
   "source": [
    "scores_date.show(5)\n",
    "scores_date.count()"
   ]
  },
  {
   "cell_type": "code",
   "execution_count": null,
   "metadata": {},
   "outputs": [],
   "source": [
    "scores_df = scores_date.toPandas()"
   ]
  },
  {
   "cell_type": "code",
   "execution_count": null,
   "metadata": {},
   "outputs": [],
   "source": [
    "view_date = spark.sql(\"\"\"SELECT YEAR(CreationDate) AS Year,\n",
    "                MONTH(CreationDate) AS Month,\n",
    "                DAY(CreationDate) AS Day,\n",
    "                HOUR(CreationDate) AS Hour,\n",
    "                SUM(ViewCount) AS DailyView\n",
    "                FROM Posts\n",
    "                WHERE ViewCount IS NOT NULL\n",
    "                GROUP BY Year, Month, Day, Hour\n",
    "                ORDER BY (Year, Month, Day, Hour) DESC\"\"\")"
   ]
  },
  {
   "cell_type": "code",
   "execution_count": null,
   "metadata": {},
   "outputs": [],
   "source": [
    "view_date.show(5)\n",
    "view_date.count()"
   ]
  },
  {
   "cell_type": "code",
   "execution_count": null,
   "metadata": {},
   "outputs": [],
   "source": [
    "view_df = view_date.toPandas()"
   ]
  },
  {
   "cell_type": "code",
   "execution_count": null,
   "metadata": {},
   "outputs": [],
   "source": [
    "time_scores_df = scores_df.copy()\n",
    "time_scores_df['DateTime'] = time_scores_df[['Year', 'Month', 'Day', 'Hour']].apply(lambda s : datetime(*s),axis=1)\n",
    "time_scores_df.head(5)"
   ]
  },
  {
   "cell_type": "code",
   "execution_count": null,
   "metadata": {},
   "outputs": [],
   "source": [
    "time_view_df = view_df.copy()\n",
    "time_view_df['DateTime'] = time_view_df[['Year', 'Month', 'Day', 'Hour']].apply(lambda s : datetime(*s),axis=1)\n",
    "time_view_df.head(5)"
   ]
  },
  {
   "cell_type": "markdown",
   "metadata": {},
   "source": [
    "We again restrict the data to the interval of the day before and two days after the hour change took place.\n",
    "\n",
    "We will plot the total scores and the view counts for each hour in the time interval mentioned."
   ]
  },
  {
   "cell_type": "code",
   "execution_count": null,
   "metadata": {},
   "outputs": [],
   "source": [
    "one_day_before_dst_usa = 1509749999;\n",
    "before = datetime.fromtimestamp(one_day_before_dst_usa)\n",
    "one_day_after_dst_usa = 1510012800\n",
    "after = datetime.fromtimestamp(one_day_after_dst_usa)\n",
    "\n",
    "timed_scores_df = time_scores_df.loc[(time_scores_df.DateTime > before) & (time_scores_df.DateTime < after)]\n",
    "timed_scores_df = timed_scores_df.sort_values(by=['DateTime'])\n",
    "\n",
    "time_view_df = time_view_df.loc[(time_view_df.DateTime > before) & (time_view_df.DateTime < after)]\n",
    "time_view_df = time_view_df.sort_values(by=['DateTime'])"
   ]
  },
  {
   "cell_type": "code",
   "execution_count": 37,
   "metadata": {},
   "outputs": [
    {
     "ename": "NameError",
     "evalue": "name 'timed_scores_df' is not defined",
     "output_type": "error",
     "traceback": [
      "\u001b[0;31m---------------------------------------------------------------------------\u001b[0m",
      "\u001b[0;31mNameError\u001b[0m                                 Traceback (most recent call last)",
      "\u001b[0;32m<ipython-input-37-10a70218e633>\u001b[0m in \u001b[0;36m<module>\u001b[0;34m()\u001b[0m\n\u001b[0;32m----> 1\u001b[0;31m \u001b[0mx\u001b[0m \u001b[0;34m=\u001b[0m \u001b[0mtimed_scores_df\u001b[0m\u001b[0;34m.\u001b[0m\u001b[0mDateTime\u001b[0m\u001b[0;34m\u001b[0m\u001b[0m\n\u001b[0m\u001b[1;32m      2\u001b[0m \u001b[0my\u001b[0m \u001b[0;34m=\u001b[0m \u001b[0mtimed_scores_df\u001b[0m\u001b[0;34m.\u001b[0m\u001b[0mTotalScore\u001b[0m\u001b[0;34m\u001b[0m\u001b[0m\n\u001b[1;32m      3\u001b[0m \u001b[0mfig\u001b[0m \u001b[0;34m=\u001b[0m \u001b[0mplt\u001b[0m\u001b[0;34m.\u001b[0m\u001b[0mfigure\u001b[0m\u001b[0;34m(\u001b[0m\u001b[0mfigsize\u001b[0m\u001b[0;34m=\u001b[0m\u001b[0;34m(\u001b[0m\u001b[0;36m20\u001b[0m\u001b[0;34m,\u001b[0m \u001b[0;36m5\u001b[0m\u001b[0;34m)\u001b[0m\u001b[0;34m)\u001b[0m\u001b[0;34m\u001b[0m\u001b[0m\n\u001b[1;32m      4\u001b[0m \u001b[0max\u001b[0m \u001b[0;34m=\u001b[0m \u001b[0mfig\u001b[0m\u001b[0;34m.\u001b[0m\u001b[0madd_subplot\u001b[0m\u001b[0;34m(\u001b[0m\u001b[0;36m111\u001b[0m\u001b[0;34m)\u001b[0m\u001b[0;34m\u001b[0m\u001b[0m\n\u001b[1;32m      5\u001b[0m \u001b[0max\u001b[0m\u001b[0;34m.\u001b[0m\u001b[0mplot\u001b[0m\u001b[0;34m(\u001b[0m\u001b[0mx\u001b[0m\u001b[0;34m,\u001b[0m \u001b[0my\u001b[0m\u001b[0;34m)\u001b[0m\u001b[0;34m\u001b[0m\u001b[0m\n",
      "\u001b[0;31mNameError\u001b[0m: name 'timed_scores_df' is not defined"
     ]
    }
   ],
   "source": [
    "x = timed_scores_df.DateTime\n",
    "y = timed_scores_df.TotalScore\n",
    "fig = plt.figure(figsize=(20, 5))\n",
    "ax = fig.add_subplot(111)\n",
    "ax.plot(x, y)\n",
    "plt.xlabel('Hour')\n",
    "_ = plt.ylabel('Total scores')"
   ]
  },
  {
   "cell_type": "code",
   "execution_count": 38,
   "metadata": {},
   "outputs": [
    {
     "ename": "NameError",
     "evalue": "name 'timed_scores_df' is not defined",
     "output_type": "error",
     "traceback": [
      "\u001b[0;31m---------------------------------------------------------------------------\u001b[0m",
      "\u001b[0;31mNameError\u001b[0m                                 Traceback (most recent call last)",
      "\u001b[0;32m<ipython-input-38-20312af4b323>\u001b[0m in \u001b[0;36m<module>\u001b[0;34m()\u001b[0m\n\u001b[0;32m----> 1\u001b[0;31m \u001b[0mx\u001b[0m \u001b[0;34m=\u001b[0m \u001b[0mtimed_scores_df\u001b[0m\u001b[0;34m.\u001b[0m\u001b[0mDateTime\u001b[0m\u001b[0;34m\u001b[0m\u001b[0m\n\u001b[0m\u001b[1;32m      2\u001b[0m \u001b[0my\u001b[0m \u001b[0;34m=\u001b[0m \u001b[0mtimed_scores_df\u001b[0m\u001b[0;34m.\u001b[0m\u001b[0mTotalScore\u001b[0m\u001b[0;34m\u001b[0m\u001b[0m\n\u001b[1;32m      3\u001b[0m \u001b[0mfig\u001b[0m \u001b[0;34m=\u001b[0m \u001b[0mplt\u001b[0m\u001b[0;34m.\u001b[0m\u001b[0mfigure\u001b[0m\u001b[0;34m(\u001b[0m\u001b[0mfigsize\u001b[0m\u001b[0;34m=\u001b[0m\u001b[0;34m(\u001b[0m\u001b[0;36m20\u001b[0m\u001b[0;34m,\u001b[0m \u001b[0;36m5\u001b[0m\u001b[0;34m)\u001b[0m\u001b[0;34m)\u001b[0m\u001b[0;34m\u001b[0m\u001b[0m\n\u001b[1;32m      4\u001b[0m \u001b[0max\u001b[0m \u001b[0;34m=\u001b[0m \u001b[0mfig\u001b[0m\u001b[0;34m.\u001b[0m\u001b[0madd_subplot\u001b[0m\u001b[0;34m(\u001b[0m\u001b[0;36m111\u001b[0m\u001b[0;34m)\u001b[0m\u001b[0;34m\u001b[0m\u001b[0m\n\u001b[1;32m      5\u001b[0m \u001b[0max\u001b[0m\u001b[0;34m.\u001b[0m\u001b[0mplot\u001b[0m\u001b[0;34m(\u001b[0m\u001b[0mx\u001b[0m\u001b[0;34m,\u001b[0m \u001b[0my\u001b[0m\u001b[0;34m)\u001b[0m\u001b[0;34m\u001b[0m\u001b[0m\n",
      "\u001b[0;31mNameError\u001b[0m: name 'timed_scores_df' is not defined"
     ]
    }
   ],
   "source": [
    "x = timed_scores_df.DateTime\n",
    "y = timed_scores_df.TotalScore\n",
    "fig = plt.figure(figsize=(20, 5))\n",
    "ax = fig.add_subplot(111)\n",
    "ax.plot(x, y)\n",
    "plt.xlabel('Hour')\n",
    "_ = plt.ylabel('Total views')"
   ]
  },
  {
   "cell_type": "markdown",
   "metadata": {},
   "source": [
    "The DST was Sunday and obviously most users do not Stack Overflow on weekends. People are probably more interested in technical stuff during the week, while they're at work.\n",
    "\n",
    "Therefore, we are going to extend the study area to obtain more representative results.\n",
    "\n",
    "Let's first extend the period that we monitor from a day before and after the hour change to the month before and after the hour change. First, we see how many years we can take into account for this analysis."
   ]
  },
  {
   "cell_type": "code",
   "execution_count": 39,
   "metadata": {},
   "outputs": [
    {
     "name": "stdout",
     "output_type": "stream",
     "text": [
      "+--------------------+--------------------+\n",
      "|   min(CreationDate)|   max(CreationDate)|\n",
      "+--------------------+--------------------+\n",
      "|2008-07-31T22:08:...|2018-09-02T05:46:...|\n",
      "+--------------------+--------------------+\n",
      "\n"
     ]
    }
   ],
   "source": [
    "# Determine the time interval for the data\n",
    "dates = spark.sql(\"SELECT MIN(CreationDate), MAX(CreationDate) FROM Posts\")\n",
    "dates.show()"
   ]
  },
  {
   "cell_type": "markdown",
   "metadata": {},
   "source": [
    "We see that we have data from summer 2008 up to autumn 2018. We will then analyze summer hour changes for the years 2009-2018 and winter hour changes for the years 2008-2017. At each hour chage, we will consider data for a month before and a month after the change."
   ]
  },
  {
   "cell_type": "code",
   "execution_count": 40,
   "metadata": {},
   "outputs": [],
   "source": [
    "# Timestamps for hour changes\n",
    "summer_change = [1236470400, 1268524800, 1299974400, 1331424000, 1362873600,\n",
    "                 1394323200, 1425772800, 1457827200, 1489276800, 1520726400]\n",
    "winter_change = [1225584000, 1257033600, 1289088000, 1320537600, 1351987200,\n",
    "                1383436800, 1414886400, 1446336000, 1478390400, 1509840000]\n",
    "week_timestamp = 604800\n",
    "hour_timestamp = 3600"
   ]
  },
  {
   "cell_type": "code",
   "execution_count": 41,
   "metadata": {},
   "outputs": [],
   "source": [
    "# Collect data for each of the hour changes for some number of weeks before and after the change\n",
    "def hour_change_counts(weeks):\n",
    "    summer_dfs = []\n",
    "    winter_dfs = []\n",
    "\n",
    "    for ch in summer_change:\n",
    "        before = ch - weeks * week_timestamp - hour_timestamp\n",
    "        after = ch + weeks * week_timestamp - hour_timestamp\n",
    "        posts_date = spark.sql(f\"\"\"SELECT COUNT(*) AS PostsCount,\n",
    "                DATE_FORMAT(FROM_UNIXTIME(CreationTimestamp), \"yyyy-MM-dd'T'HH\") as Date\n",
    "                FROM Posts\n",
    "                WHERE Posts.CreationTimestamp >= {before}\n",
    "                    AND Posts.CreationTimestamp <= {after}\n",
    "                GROUP BY Date\n",
    "                ORDER BY Date ASC\"\"\")\n",
    "        summer_dfs.append(posts_date)\n",
    "\n",
    "    for ch in winter_change:\n",
    "        before = ch - weeks * week_timestamp - hour_timestamp\n",
    "        after = ch + weeks * week_timestamp - hour_timestamp\n",
    "        posts_date = spark.sql(f\"\"\"SELECT COUNT(*) AS PostsCount,\n",
    "                DATE_FORMAT(FROM_UNIXTIME(CreationTimestamp), \"yyyy-MM-dd'T'HH\") as Date\n",
    "                FROM Posts\n",
    "                WHERE Posts.CreationTimestamp >= {before}\n",
    "                    AND Posts.CreationTimestamp <= {after}\n",
    "                GROUP BY Date\n",
    "                ORDER BY Date ASC\"\"\")\n",
    "        winter_dfs.append(posts_date)\n",
    "    \n",
    "    return summer_dfs, winter_dfs\n",
    "\n",
    "summer_dfs, winter_dfs = hour_change_counts(4)"
   ]
  },
  {
   "cell_type": "code",
   "execution_count": 43,
   "metadata": {},
   "outputs": [
    {
     "data": {
      "application/vnd.jupyter.widget-view+json": {
       "model_id": "22dfaa5aa3d74995966626f071f778c0",
       "version_major": 2,
       "version_minor": 0
      },
      "text/plain": [
       "interactive(children=(Text(value='summer', description='season'), IntSlider(value=2013, description='year', ma…"
      ]
     },
     "metadata": {},
     "output_type": "display_data"
    },
    {
     "data": {
      "application/vnd.jupyter.widget-view+json": {
       "model_id": "cb332d4cddd7490eb6b196453d33bff0",
       "version_major": 2,
       "version_minor": 0
      },
      "text/plain": [
       "interactive(children=(Text(value='winter', description='season'), IntSlider(value=2012, description='year', ma…"
      ]
     },
     "metadata": {},
     "output_type": "display_data"
    }
   ],
   "source": [
    "def plot_counts(season, year):\n",
    "    # Plot post count distribution before and after hour change\n",
    "    if season == 'summer':\n",
    "        df = summer_dfs[year - 2009].toPandas()\n",
    "    else:\n",
    "        df = winter_dfs[year - 2008].toPandas()\n",
    "        \n",
    "    df['Hour'] = df['Date'].apply(lambda x: x.split('T')[1])\n",
    "    # Average the number of visits per hour for the week before and the week after the hour change\n",
    "    before_df = df.iloc[:len(df) // 2]\n",
    "    after_df = df.iloc[len(df) // 2:]\n",
    "\n",
    "    f, arr = plt.subplots(1, 2, sharey=True)\n",
    "    f.suptitle(f'Post counts before and after {season} hour change {year}')\n",
    "    f.set_figwidth(12)\n",
    "    f.set_figheight(6)\n",
    "    before_df.groupby('Hour').mean().reset_index().plot.bar(ax=arr[0], x='Hour', y='PostsCount',\n",
    "                                                            title='Before', color='blue')\n",
    "    after_df.groupby('Hour').mean().reset_index().plot.bar(ax=arr[1], x='Hour', y='PostsCount',\n",
    "                                                               title='After', color='blue')\n",
    "\n",
    "# Plot counts for summer hour change\n",
    "interact(plot_counts, season='summer', year=(2009, 2018, 1))\n",
    "    \n",
    "# Plot counts for winter hour change\n",
    "_ = interact(plot_counts, season='winter', year=(2008, 2017, 1))"
   ]
  },
  {
   "cell_type": "markdown",
   "metadata": {},
   "source": [
    "We see pretty clearly, most easily by looking for the peaks in the number of posts, that at a summer hour change the distribution shifts to the left, while at a winter hour change, it shifts to the right. Considering that US users constitute a large proportion from the Stack Overflow users, this behavior is reasonable. We see that peaks normally occur at 2 or 3 pm in the summer time and at 3 or 4 pm in the winter time, just as we would have expected from an hour difference. This corresponds to a normal start of a working day for a programmer.\n",
    "\n",
    "Out of topic, we also observe the increase in the number of posts over time. It's only normal, as more and more people have access to the internet and are more interested in programming. While in the first years the peak is clear, the distribution also changes a bit over time, as US users decrease in proportion as more and more users from other countries join the community, bringing the distribution towards a more uniform shape."
   ]
  },
  {
   "cell_type": "markdown",
   "metadata": {},
   "source": [
    "## Venmo changes on 4th November when Daylight Saving Time Ended\n",
    "https://www.timeanddate.com/time/change/usa"
   ]
  },
  {
   "cell_type": "code",
   "execution_count": 32,
   "metadata": {},
   "outputs": [
    {
     "name": "stdout",
     "output_type": "stream",
     "text": [
      "2018-11-24 12:47:05.388082\n",
      "sleeping\n",
      "2018-11-24 12:47:10.893248\n",
      "sleeping\n",
      "2018-11-24 12:47:16.405321\n"
     ]
    }
   ],
   "source": [
    "import json\n",
    "import csv\n",
    "import requests\n",
    "import time\n",
    "import datetime\n",
    "\n",
    "start_timestamp = 1541203200 # Saturday, 3 November 2018 0:00:00\n",
    "end_timestamp =  1541376000 # Monday, 5 November 2018 0:00:00\n",
    "\n",
    "def api_to_csv(url):\n",
    "    print(datetime.datetime.now())\n",
    "    r = requests.get(url)\n",
    "    data = r.json()\n",
    "    if 'data' not in data:\n",
    "        return\n",
    "    public_data = data['data']\n",
    "\n",
    "    lol = url.split(\"/\")\n",
    "    filename = lol[-1] + \".csv\"\n",
    "    \n",
    "    with open(filename, 'w') as main_data:\n",
    "        # create the csv writer object\n",
    "        csvwriter = csv.writer(main_data)\n",
    "        count = 0\n",
    "        for temp in public_data:\n",
    "            if count == 0:\n",
    "                header = temp.keys()\n",
    "                csvwriter.writerow(header)\n",
    "                count += 1\n",
    "            csvwriter.writerow(temp.values())\n",
    "\n",
    "        url = data[\"paging\"][\"next\"]\n",
    "        if url == \"\":\n",
    "            return\n",
    "        print(\"sleeping\")\n",
    "        time.sleep(5)\n",
    "\n",
    "        api_to_csv(url)\n",
    "\n",
    "api_to_csv(f\"https://venmo.com/api/v5/public?since={start_timestamp}\")"
   ]
  },
  {
   "cell_type": "markdown",
   "metadata": {},
   "source": [
    "# Wikipedia Data"
   ]
  },
  {
   "cell_type": "markdown",
   "metadata": {},
   "source": [
    "We generated a dataset based on the Wikipedia data to complete our analysis with a validation with another data source.\n",
    "To obtain this data, we wrote a simple Python script, which makes use of the Wikipedia API (https://www.mediawiki.org/wiki/API:Recent_changes_stream).\n",
    "\n",
    "Wikipedia only allow their users to get the last 30 days changes. Relative to the moment we finished writing the script, we chose a period of 31 days, from 2018-10-18 13:38:21 to 2018-11-17 00:00:15, in other words, 17 days before the hour change and 13 days after.\n",
    "\n",
    "This time window is relevant for our problem, because we need to analyze a long-period behavior evolution of users.\n",
    "\n",
    "The number of changes per second in Wikipedia is large. That's why we had to limit the number of changes we got (31 days of changes represent  approximately 560 GB of data).\n",
    "\n",
    "We got the 100th first changes each 15 minutes for our time period to limit the amount of data to be stored.\n",
    "\n",
    "Because of this choice, we can't compare the number of changes before and after the hour change. We have to find others indicators to validate our theories."
   ]
  },
  {
   "cell_type": "markdown",
   "metadata": {},
   "source": [
    "### Wikipedia changes API request format\n",
    "\n",
    "A sample API request looks like this:\n",
    "https://en.wikipedia.org/w/api.php?action=query&format=json&list=recentchanges&rcprop=ids%7Csizes%7Cfrcshow=!bot%7Clags%7Cuserid%7Ctimestamp&rclimit=100&rcstart='+wikistamp+'&rcdir=newer\n",
    "\n",
    "The parameters used for the API requests have the following role:\n",
    "- rcprop: which parameters to keep from the API response (here: id, size, exclude bot changes, userid, timestamp)\n",
    "- rclimit: how many changes to get for each request (here: 100 per request)\n",
    "- rcstart: the timestamp to start listing from (here: we put an iterator and add 15 minutes after each iteration)\n",
    "- rcdir: direction to list in (newer/older)\n",
    "- wikistamp: Python variable to increment timestamp call"
   ]
  },
  {
   "cell_type": "markdown",
   "metadata": {},
   "source": [
    "### Dataset Analysis\n",
    "\n",
    "Having collected the dataset, we can now begin to analyse it."
   ]
  },
  {
   "cell_type": "code",
   "execution_count": 53,
   "metadata": {},
   "outputs": [
    {
     "name": "stdout",
     "output_type": "stream",
     "text": [
      "root\n",
      " |-- actionhidden: string (nullable = true)\n",
      " |-- anon: string (nullable = true)\n",
      " |-- newlen: long (nullable = true)\n",
      " |-- old_revid: long (nullable = true)\n",
      " |-- oldlen: long (nullable = true)\n",
      " |-- pageid: long (nullable = true)\n",
      " |-- rcid: long (nullable = true)\n",
      " |-- revid: long (nullable = true)\n",
      " |-- suppressed: string (nullable = true)\n",
      " |-- timestamp: string (nullable = true)\n",
      " |-- type: string (nullable = true)\n",
      " |-- userhidden: string (nullable = true)\n",
      " |-- userid: long (nullable = true)\n",
      "\n"
     ]
    }
   ],
   "source": [
    "# Load the wikipedia dataset\n",
    "DATA = './wikiData.json'\n",
    "wiki_df = spark.read.json(DATA)\n",
    "wiki_df.printSchema()"
   ]
  },
  {
   "cell_type": "code",
   "execution_count": 46,
   "metadata": {},
   "outputs": [],
   "source": [
    "# Save the data in parquet format for faster loading afterwards\n",
    "wiki_df.write.parquet(\"posts.parquet\")"
   ]
  },
  {
   "cell_type": "code",
   "execution_count": 54,
   "metadata": {},
   "outputs": [
    {
     "data": {
      "text/html": [
       "<div>\n",
       "<style scoped>\n",
       "    .dataframe tbody tr th:only-of-type {\n",
       "        vertical-align: middle;\n",
       "    }\n",
       "\n",
       "    .dataframe tbody tr th {\n",
       "        vertical-align: top;\n",
       "    }\n",
       "\n",
       "    .dataframe thead th {\n",
       "        text-align: right;\n",
       "    }\n",
       "</style>\n",
       "<table border=\"1\" class=\"dataframe\">\n",
       "  <thead>\n",
       "    <tr style=\"text-align: right;\">\n",
       "      <th></th>\n",
       "      <th>actionhidden</th>\n",
       "      <th>anon</th>\n",
       "      <th>newlen</th>\n",
       "      <th>old_revid</th>\n",
       "      <th>oldlen</th>\n",
       "      <th>pageid</th>\n",
       "      <th>rcid</th>\n",
       "      <th>revid</th>\n",
       "      <th>suppressed</th>\n",
       "      <th>timestamp</th>\n",
       "      <th>type</th>\n",
       "      <th>userhidden</th>\n",
       "      <th>userid</th>\n",
       "    </tr>\n",
       "  </thead>\n",
       "  <tbody>\n",
       "    <tr>\n",
       "      <th>0</th>\n",
       "      <td>None</td>\n",
       "      <td></td>\n",
       "      <td>4681</td>\n",
       "      <td>842911520.0</td>\n",
       "      <td>4657</td>\n",
       "      <td>40148164.0</td>\n",
       "      <td>1097276471</td>\n",
       "      <td>864631667.0</td>\n",
       "      <td>None</td>\n",
       "      <td>2018-10-18 13:38:21</td>\n",
       "      <td>edit</td>\n",
       "      <td>None</td>\n",
       "      <td>0.0</td>\n",
       "    </tr>\n",
       "    <tr>\n",
       "      <th>1003</th>\n",
       "      <td>None</td>\n",
       "      <td>None</td>\n",
       "      <td>0</td>\n",
       "      <td>0.0</td>\n",
       "      <td>0</td>\n",
       "      <td>58801096.0</td>\n",
       "      <td>1097276477</td>\n",
       "      <td>864631664.0</td>\n",
       "      <td>None</td>\n",
       "      <td>2018-10-18 13:38:21</td>\n",
       "      <td>categorize</td>\n",
       "      <td>None</td>\n",
       "      <td>31946894.0</td>\n",
       "    </tr>\n",
       "    <tr>\n",
       "      <th>1002</th>\n",
       "      <td>None</td>\n",
       "      <td>None</td>\n",
       "      <td>210</td>\n",
       "      <td>0.0</td>\n",
       "      <td>0</td>\n",
       "      <td>58801096.0</td>\n",
       "      <td>1097276476</td>\n",
       "      <td>864631664.0</td>\n",
       "      <td>None</td>\n",
       "      <td>2018-10-18 13:38:21</td>\n",
       "      <td>new</td>\n",
       "      <td>None</td>\n",
       "      <td>31946894.0</td>\n",
       "    </tr>\n",
       "    <tr>\n",
       "      <th>1001</th>\n",
       "      <td>None</td>\n",
       "      <td></td>\n",
       "      <td>8179</td>\n",
       "      <td>849115441.0</td>\n",
       "      <td>8194</td>\n",
       "      <td>4009928.0</td>\n",
       "      <td>1097276472</td>\n",
       "      <td>864631666.0</td>\n",
       "      <td>None</td>\n",
       "      <td>2018-10-18 13:38:21</td>\n",
       "      <td>edit</td>\n",
       "      <td>None</td>\n",
       "      <td>0.0</td>\n",
       "    </tr>\n",
       "    <tr>\n",
       "      <th>1000</th>\n",
       "      <td>None</td>\n",
       "      <td></td>\n",
       "      <td>4681</td>\n",
       "      <td>842911520.0</td>\n",
       "      <td>4657</td>\n",
       "      <td>40148164.0</td>\n",
       "      <td>1097276471</td>\n",
       "      <td>864631667.0</td>\n",
       "      <td>None</td>\n",
       "      <td>2018-10-18 13:38:21</td>\n",
       "      <td>edit</td>\n",
       "      <td>None</td>\n",
       "      <td>0.0</td>\n",
       "    </tr>\n",
       "  </tbody>\n",
       "</table>\n",
       "</div>"
      ],
      "text/plain": [
       "     actionhidden  anon  newlen    old_revid  oldlen      pageid        rcid  \\\n",
       "0            None          4681  842911520.0    4657  40148164.0  1097276471   \n",
       "1003         None  None       0          0.0       0  58801096.0  1097276477   \n",
       "1002         None  None     210          0.0       0  58801096.0  1097276476   \n",
       "1001         None          8179  849115441.0    8194   4009928.0  1097276472   \n",
       "1000         None          4681  842911520.0    4657  40148164.0  1097276471   \n",
       "\n",
       "            revid suppressed           timestamp        type userhidden  \\\n",
       "0     864631667.0       None 2018-10-18 13:38:21        edit       None   \n",
       "1003  864631664.0       None 2018-10-18 13:38:21  categorize       None   \n",
       "1002  864631664.0       None 2018-10-18 13:38:21         new       None   \n",
       "1001  864631666.0       None 2018-10-18 13:38:21        edit       None   \n",
       "1000  864631667.0       None 2018-10-18 13:38:21        edit       None   \n",
       "\n",
       "          userid  \n",
       "0            0.0  \n",
       "1003  31946894.0  \n",
       "1002  31946894.0  \n",
       "1001         0.0  \n",
       "1000         0.0  "
      ]
     },
     "execution_count": 54,
     "metadata": {},
     "output_type": "execute_result"
    }
   ],
   "source": [
    "# Given the reasonable size of the data, transform it into a Pandas dataframe\n",
    "df = wiki_df.toPandas()\n",
    "df['timestamp'] =  pd.to_datetime(df['timestamp'], format='%Y-%m-%d %H:%M:%S')\n",
    "df = df.sort_values(by=['timestamp'])\n",
    "df.head()"
   ]
  },
  {
   "cell_type": "markdown",
   "metadata": {},
   "source": [
    "We can delete the *actionhidden* (title is hidden or not) and *anon* (user is logged in or not) parameters. We also keep *userid* and remove *userhidden* (user is hidden or not), because if the userid is 0, we already knoe the user is hidden. The *suppressed* parameter can be deleted too, because it's just a boolean which is true when more details about the suppression is available and it's not useful for our analysis."
   ]
  },
  {
   "cell_type": "code",
   "execution_count": 55,
   "metadata": {},
   "outputs": [
    {
     "data": {
      "text/html": [
       "<div>\n",
       "<style scoped>\n",
       "    .dataframe tbody tr th:only-of-type {\n",
       "        vertical-align: middle;\n",
       "    }\n",
       "\n",
       "    .dataframe tbody tr th {\n",
       "        vertical-align: top;\n",
       "    }\n",
       "\n",
       "    .dataframe thead th {\n",
       "        text-align: right;\n",
       "    }\n",
       "</style>\n",
       "<table border=\"1\" class=\"dataframe\">\n",
       "  <thead>\n",
       "    <tr style=\"text-align: right;\">\n",
       "      <th></th>\n",
       "      <th>newlen</th>\n",
       "      <th>old_revid</th>\n",
       "      <th>oldlen</th>\n",
       "      <th>pageid</th>\n",
       "      <th>rcid</th>\n",
       "      <th>revid</th>\n",
       "      <th>timestamp</th>\n",
       "      <th>type</th>\n",
       "      <th>userid</th>\n",
       "    </tr>\n",
       "  </thead>\n",
       "  <tbody>\n",
       "    <tr>\n",
       "      <th>0</th>\n",
       "      <td>4681</td>\n",
       "      <td>842911520.0</td>\n",
       "      <td>4657</td>\n",
       "      <td>40148164.0</td>\n",
       "      <td>1097276471</td>\n",
       "      <td>864631667.0</td>\n",
       "      <td>2018-10-18 13:38:21</td>\n",
       "      <td>edit</td>\n",
       "      <td>0.0</td>\n",
       "    </tr>\n",
       "    <tr>\n",
       "      <th>1003</th>\n",
       "      <td>0</td>\n",
       "      <td>0.0</td>\n",
       "      <td>0</td>\n",
       "      <td>58801096.0</td>\n",
       "      <td>1097276477</td>\n",
       "      <td>864631664.0</td>\n",
       "      <td>2018-10-18 13:38:21</td>\n",
       "      <td>categorize</td>\n",
       "      <td>31946894.0</td>\n",
       "    </tr>\n",
       "    <tr>\n",
       "      <th>1002</th>\n",
       "      <td>210</td>\n",
       "      <td>0.0</td>\n",
       "      <td>0</td>\n",
       "      <td>58801096.0</td>\n",
       "      <td>1097276476</td>\n",
       "      <td>864631664.0</td>\n",
       "      <td>2018-10-18 13:38:21</td>\n",
       "      <td>new</td>\n",
       "      <td>31946894.0</td>\n",
       "    </tr>\n",
       "    <tr>\n",
       "      <th>1001</th>\n",
       "      <td>8179</td>\n",
       "      <td>849115441.0</td>\n",
       "      <td>8194</td>\n",
       "      <td>4009928.0</td>\n",
       "      <td>1097276472</td>\n",
       "      <td>864631666.0</td>\n",
       "      <td>2018-10-18 13:38:21</td>\n",
       "      <td>edit</td>\n",
       "      <td>0.0</td>\n",
       "    </tr>\n",
       "    <tr>\n",
       "      <th>1000</th>\n",
       "      <td>4681</td>\n",
       "      <td>842911520.0</td>\n",
       "      <td>4657</td>\n",
       "      <td>40148164.0</td>\n",
       "      <td>1097276471</td>\n",
       "      <td>864631667.0</td>\n",
       "      <td>2018-10-18 13:38:21</td>\n",
       "      <td>edit</td>\n",
       "      <td>0.0</td>\n",
       "    </tr>\n",
       "  </tbody>\n",
       "</table>\n",
       "</div>"
      ],
      "text/plain": [
       "      newlen    old_revid  oldlen      pageid        rcid        revid  \\\n",
       "0       4681  842911520.0    4657  40148164.0  1097276471  864631667.0   \n",
       "1003       0          0.0       0  58801096.0  1097276477  864631664.0   \n",
       "1002     210          0.0       0  58801096.0  1097276476  864631664.0   \n",
       "1001    8179  849115441.0    8194   4009928.0  1097276472  864631666.0   \n",
       "1000    4681  842911520.0    4657  40148164.0  1097276471  864631667.0   \n",
       "\n",
       "               timestamp        type      userid  \n",
       "0    2018-10-18 13:38:21        edit         0.0  \n",
       "1003 2018-10-18 13:38:21  categorize  31946894.0  \n",
       "1002 2018-10-18 13:38:21         new  31946894.0  \n",
       "1001 2018-10-18 13:38:21        edit         0.0  \n",
       "1000 2018-10-18 13:38:21        edit         0.0  "
      ]
     },
     "execution_count": 55,
     "metadata": {},
     "output_type": "execute_result"
    }
   ],
   "source": [
    "df = df.drop(['anon','actionhidden','suppressed','userhidden'],axis=1)\n",
    "df.head()"
   ]
  },
  {
   "cell_type": "markdown",
   "metadata": {},
   "source": [
    "We will now assign a numerical value to the different string values contained in type, in order to be able to correlate them with the other values."
   ]
  },
  {
   "cell_type": "code",
   "execution_count": 56,
   "metadata": {},
   "outputs": [
    {
     "data": {
      "text/plain": [
       "array(['edit', 'categorize', 'new', 'log'], dtype=object)"
      ]
     },
     "execution_count": 56,
     "metadata": {},
     "output_type": "execute_result"
    }
   ],
   "source": [
    "df.type.unique()"
   ]
  },
  {
   "cell_type": "markdown",
   "metadata": {},
   "source": [
    "To refer to wikipedia API : \n",
    "- edit: Regular page edits\n",
    "- new: Page creations (Uploads are not listed as new but as log)\n",
    "- log: Log entries\n",
    "- categorize: Page categorizations\n",
    "\n",
    "We will use the convention:\n",
    "- edit = 0\n",
    "- categorize = 1\n",
    "- new = 2\n",
    "- log = 3"
   ]
  },
  {
   "cell_type": "code",
   "execution_count": 57,
   "metadata": {},
   "outputs": [
    {
     "data": {
      "text/html": [
       "<div>\n",
       "<style scoped>\n",
       "    .dataframe tbody tr th:only-of-type {\n",
       "        vertical-align: middle;\n",
       "    }\n",
       "\n",
       "    .dataframe tbody tr th {\n",
       "        vertical-align: top;\n",
       "    }\n",
       "\n",
       "    .dataframe thead th {\n",
       "        text-align: right;\n",
       "    }\n",
       "</style>\n",
       "<table border=\"1\" class=\"dataframe\">\n",
       "  <thead>\n",
       "    <tr style=\"text-align: right;\">\n",
       "      <th></th>\n",
       "      <th>newlen</th>\n",
       "      <th>old_revid</th>\n",
       "      <th>oldlen</th>\n",
       "      <th>pageid</th>\n",
       "      <th>rcid</th>\n",
       "      <th>revid</th>\n",
       "      <th>timestamp</th>\n",
       "      <th>type</th>\n",
       "      <th>userid</th>\n",
       "    </tr>\n",
       "  </thead>\n",
       "  <tbody>\n",
       "    <tr>\n",
       "      <th>0</th>\n",
       "      <td>4681</td>\n",
       "      <td>842911520.0</td>\n",
       "      <td>4657</td>\n",
       "      <td>40148164.0</td>\n",
       "      <td>1097276471</td>\n",
       "      <td>864631667.0</td>\n",
       "      <td>2018-10-18 13:38:21</td>\n",
       "      <td>0</td>\n",
       "      <td>0.0</td>\n",
       "    </tr>\n",
       "    <tr>\n",
       "      <th>1003</th>\n",
       "      <td>0</td>\n",
       "      <td>0.0</td>\n",
       "      <td>0</td>\n",
       "      <td>58801096.0</td>\n",
       "      <td>1097276477</td>\n",
       "      <td>864631664.0</td>\n",
       "      <td>2018-10-18 13:38:21</td>\n",
       "      <td>1</td>\n",
       "      <td>31946894.0</td>\n",
       "    </tr>\n",
       "    <tr>\n",
       "      <th>1002</th>\n",
       "      <td>210</td>\n",
       "      <td>0.0</td>\n",
       "      <td>0</td>\n",
       "      <td>58801096.0</td>\n",
       "      <td>1097276476</td>\n",
       "      <td>864631664.0</td>\n",
       "      <td>2018-10-18 13:38:21</td>\n",
       "      <td>2</td>\n",
       "      <td>31946894.0</td>\n",
       "    </tr>\n",
       "    <tr>\n",
       "      <th>1001</th>\n",
       "      <td>8179</td>\n",
       "      <td>849115441.0</td>\n",
       "      <td>8194</td>\n",
       "      <td>4009928.0</td>\n",
       "      <td>1097276472</td>\n",
       "      <td>864631666.0</td>\n",
       "      <td>2018-10-18 13:38:21</td>\n",
       "      <td>0</td>\n",
       "      <td>0.0</td>\n",
       "    </tr>\n",
       "    <tr>\n",
       "      <th>1000</th>\n",
       "      <td>4681</td>\n",
       "      <td>842911520.0</td>\n",
       "      <td>4657</td>\n",
       "      <td>40148164.0</td>\n",
       "      <td>1097276471</td>\n",
       "      <td>864631667.0</td>\n",
       "      <td>2018-10-18 13:38:21</td>\n",
       "      <td>0</td>\n",
       "      <td>0.0</td>\n",
       "    </tr>\n",
       "  </tbody>\n",
       "</table>\n",
       "</div>"
      ],
      "text/plain": [
       "      newlen    old_revid  oldlen      pageid        rcid        revid  \\\n",
       "0       4681  842911520.0    4657  40148164.0  1097276471  864631667.0   \n",
       "1003       0          0.0       0  58801096.0  1097276477  864631664.0   \n",
       "1002     210          0.0       0  58801096.0  1097276476  864631664.0   \n",
       "1001    8179  849115441.0    8194   4009928.0  1097276472  864631666.0   \n",
       "1000    4681  842911520.0    4657  40148164.0  1097276471  864631667.0   \n",
       "\n",
       "               timestamp  type      userid  \n",
       "0    2018-10-18 13:38:21     0         0.0  \n",
       "1003 2018-10-18 13:38:21     1  31946894.0  \n",
       "1002 2018-10-18 13:38:21     2  31946894.0  \n",
       "1001 2018-10-18 13:38:21     0         0.0  \n",
       "1000 2018-10-18 13:38:21     0         0.0  "
      ]
     },
     "execution_count": 57,
     "metadata": {},
     "output_type": "execute_result"
    }
   ],
   "source": [
    "# Map type values to ids\n",
    "type_id = {'edit': 0, 'categorize': 1, 'new': 2, 'log': 3}\n",
    "\n",
    "df.type = df.type.map(lambda x: type_id[x])\n",
    "df.head()"
   ]
  },
  {
   "cell_type": "markdown",
   "metadata": {},
   "source": [
    "We can find the number of changes with newlen and oldlen."
   ]
  },
  {
   "cell_type": "code",
   "execution_count": 58,
   "metadata": {},
   "outputs": [
    {
     "data": {
      "text/html": [
       "<div>\n",
       "<style scoped>\n",
       "    .dataframe tbody tr th:only-of-type {\n",
       "        vertical-align: middle;\n",
       "    }\n",
       "\n",
       "    .dataframe tbody tr th {\n",
       "        vertical-align: top;\n",
       "    }\n",
       "\n",
       "    .dataframe thead th {\n",
       "        text-align: right;\n",
       "    }\n",
       "</style>\n",
       "<table border=\"1\" class=\"dataframe\">\n",
       "  <thead>\n",
       "    <tr style=\"text-align: right;\">\n",
       "      <th></th>\n",
       "      <th>old_revid</th>\n",
       "      <th>pageid</th>\n",
       "      <th>rcid</th>\n",
       "      <th>revid</th>\n",
       "      <th>timestamp</th>\n",
       "      <th>type</th>\n",
       "      <th>userid</th>\n",
       "      <th>lenchanged</th>\n",
       "    </tr>\n",
       "  </thead>\n",
       "  <tbody>\n",
       "    <tr>\n",
       "      <th>0</th>\n",
       "      <td>842911520.0</td>\n",
       "      <td>40148164.0</td>\n",
       "      <td>1097276471</td>\n",
       "      <td>864631667.0</td>\n",
       "      <td>2018-10-18 13:38:21</td>\n",
       "      <td>0</td>\n",
       "      <td>0.0</td>\n",
       "      <td>24</td>\n",
       "    </tr>\n",
       "    <tr>\n",
       "      <th>1003</th>\n",
       "      <td>0.0</td>\n",
       "      <td>58801096.0</td>\n",
       "      <td>1097276477</td>\n",
       "      <td>864631664.0</td>\n",
       "      <td>2018-10-18 13:38:21</td>\n",
       "      <td>1</td>\n",
       "      <td>31946894.0</td>\n",
       "      <td>0</td>\n",
       "    </tr>\n",
       "    <tr>\n",
       "      <th>1002</th>\n",
       "      <td>0.0</td>\n",
       "      <td>58801096.0</td>\n",
       "      <td>1097276476</td>\n",
       "      <td>864631664.0</td>\n",
       "      <td>2018-10-18 13:38:21</td>\n",
       "      <td>2</td>\n",
       "      <td>31946894.0</td>\n",
       "      <td>210</td>\n",
       "    </tr>\n",
       "    <tr>\n",
       "      <th>1001</th>\n",
       "      <td>849115441.0</td>\n",
       "      <td>4009928.0</td>\n",
       "      <td>1097276472</td>\n",
       "      <td>864631666.0</td>\n",
       "      <td>2018-10-18 13:38:21</td>\n",
       "      <td>0</td>\n",
       "      <td>0.0</td>\n",
       "      <td>-15</td>\n",
       "    </tr>\n",
       "    <tr>\n",
       "      <th>1000</th>\n",
       "      <td>842911520.0</td>\n",
       "      <td>40148164.0</td>\n",
       "      <td>1097276471</td>\n",
       "      <td>864631667.0</td>\n",
       "      <td>2018-10-18 13:38:21</td>\n",
       "      <td>0</td>\n",
       "      <td>0.0</td>\n",
       "      <td>24</td>\n",
       "    </tr>\n",
       "  </tbody>\n",
       "</table>\n",
       "</div>"
      ],
      "text/plain": [
       "        old_revid      pageid        rcid        revid           timestamp  \\\n",
       "0     842911520.0  40148164.0  1097276471  864631667.0 2018-10-18 13:38:21   \n",
       "1003          0.0  58801096.0  1097276477  864631664.0 2018-10-18 13:38:21   \n",
       "1002          0.0  58801096.0  1097276476  864631664.0 2018-10-18 13:38:21   \n",
       "1001  849115441.0   4009928.0  1097276472  864631666.0 2018-10-18 13:38:21   \n",
       "1000  842911520.0  40148164.0  1097276471  864631667.0 2018-10-18 13:38:21   \n",
       "\n",
       "      type      userid  lenchanged  \n",
       "0        0         0.0          24  \n",
       "1003     1  31946894.0           0  \n",
       "1002     2  31946894.0         210  \n",
       "1001     0         0.0         -15  \n",
       "1000     0         0.0          24  "
      ]
     },
     "execution_count": 58,
     "metadata": {},
     "output_type": "execute_result"
    }
   ],
   "source": [
    "df['lenchanged'] = df['newlen'] - df['oldlen']\n",
    "df = df.drop(['newlen','oldlen'],axis=1)\n",
    "df.head()"
   ]
  },
  {
   "cell_type": "code",
   "execution_count": 60,
   "metadata": {},
   "outputs": [
    {
     "name": "stdout",
     "output_type": "stream",
     "text": [
      "First change dates back to 2018-10-18T13:38:21.000000000\n",
      "Last change dates back to 2018-11-17T00:00:15.000000000\n"
     ]
    }
   ],
   "source": [
    "# Display fist and last entries' dates\n",
    "print(f'First change dates back to {df.timestamp.values[0]}')\n",
    "print(f'Last change dates back to {df.timestamp.values[-1]}')"
   ]
  },
  {
   "cell_type": "code",
   "execution_count": 71,
   "metadata": {},
   "outputs": [],
   "source": [
    "# Split dataframe in 'before' and 'after' hour change\n",
    "change_hour = datetime.utcfromtimestamp(1541293200).strftime('%Y-%m-%dT%H:%M:%SZ')\n",
    "before_df = df.loc[df['timestamp'] < change_hour]\n",
    "after_df = df.loc[df['timestamp'] > change_hour]"
   ]
  },
  {
   "cell_type": "markdown",
   "metadata": {},
   "source": [
    "#### Correlation\n",
    "\n",
    "Let's take a look at the correlation between the data fields that we have."
   ]
  },
  {
   "cell_type": "code",
   "execution_count": 72,
   "metadata": {},
   "outputs": [
    {
     "data": {
      "image/png": "[encoded data removed]",
      "text/plain": [
       "<Figure size 720x576 with 2 Axes>"
      ]
     },
     "metadata": {},
     "output_type": "display_data"
    }
   ],
   "source": [
    "f, ax = plt.subplots(figsize=(10, 8))\n",
    "corr = df.corr()\n",
    "_ = sns.heatmap(corr, mask=np.zeros_like(corr, dtype=np.bool), cmap=sns.diverging_palette(220, 10, as_cmap=True),\n",
    "            square=True, ax=ax)"
   ]
  },
  {
   "cell_type": "markdown",
   "metadata": {},
   "source": [
    "The matrix shows us a correlation between old and new revision ids, explained by the fact the two numbers are always of the same order of magnitude.\n",
    "\n",
    "Now, let's take a look at how the types of changes are distributed before and after the hour change."
   ]
  },
  {
   "cell_type": "code",
   "execution_count": 77,
   "metadata": {},
   "outputs": [
    {
     "data": {
      "text/html": [
       "<div>\n",
       "<style scoped>\n",
       "    .dataframe tbody tr th:only-of-type {\n",
       "        vertical-align: middle;\n",
       "    }\n",
       "\n",
       "    .dataframe tbody tr th {\n",
       "        vertical-align: top;\n",
       "    }\n",
       "\n",
       "    .dataframe thead th {\n",
       "        text-align: right;\n",
       "    }\n",
       "</style>\n",
       "<table border=\"1\" class=\"dataframe\">\n",
       "  <thead>\n",
       "    <tr style=\"text-align: right;\">\n",
       "      <th></th>\n",
       "      <th>type</th>\n",
       "      <th>count</th>\n",
       "    </tr>\n",
       "  </thead>\n",
       "  <tbody>\n",
       "    <tr>\n",
       "      <th>0</th>\n",
       "      <td>edit</td>\n",
       "      <td>100830</td>\n",
       "    </tr>\n",
       "    <tr>\n",
       "      <th>1</th>\n",
       "      <td>categorize</td>\n",
       "      <td>50495</td>\n",
       "    </tr>\n",
       "    <tr>\n",
       "      <th>2</th>\n",
       "      <td>log</td>\n",
       "      <td>7006</td>\n",
       "    </tr>\n",
       "    <tr>\n",
       "      <th>3</th>\n",
       "      <td>new</td>\n",
       "      <td>6069</td>\n",
       "    </tr>\n",
       "  </tbody>\n",
       "</table>\n",
       "</div>"
      ],
      "text/plain": [
       "         type   count\n",
       "0        edit  100830\n",
       "1  categorize   50495\n",
       "2         log    7006\n",
       "3         new    6069"
      ]
     },
     "metadata": {},
     "output_type": "display_data"
    },
    {
     "data": {
      "image/png": "[encoded data removed]",
      "text/plain": [
       "<Figure size 432x288 with 1 Axes>"
      ]
     },
     "metadata": {},
     "output_type": "display_data"
    }
   ],
   "source": [
    "# Distribution of the change type before the hour change\n",
    "id_to_type = {0: 'edit', 1: 'categorize', 2: 'new', 3: 'log'}\n",
    "before_categories_df = before_df.groupby('type').size().sort_values(ascending=False).to_frame('count')\n",
    "before_categories_df.reset_index(level=0, inplace=True)\n",
    "before_categories_df.type = before_categories_df.type.map(lambda x: id_to_type[x])\n",
    "\n",
    "sns.set_style('whitegrid')\n",
    "sns.barplot(x='count', y='type', data=before_categories_df).set_title('Changes distribution before hour change')\n",
    "display(before_categories_df)"
   ]
  },
  {
   "cell_type": "code",
   "execution_count": 79,
   "metadata": {},
   "outputs": [
    {
     "data": {
      "text/html": [
       "<div>\n",
       "<style scoped>\n",
       "    .dataframe tbody tr th:only-of-type {\n",
       "        vertical-align: middle;\n",
       "    }\n",
       "\n",
       "    .dataframe tbody tr th {\n",
       "        vertical-align: top;\n",
       "    }\n",
       "\n",
       "    .dataframe thead th {\n",
       "        text-align: right;\n",
       "    }\n",
       "</style>\n",
       "<table border=\"1\" class=\"dataframe\">\n",
       "  <thead>\n",
       "    <tr style=\"text-align: right;\">\n",
       "      <th></th>\n",
       "      <th>type</th>\n",
       "      <th>count</th>\n",
       "    </tr>\n",
       "  </thead>\n",
       "  <tbody>\n",
       "    <tr>\n",
       "      <th>0</th>\n",
       "      <td>edit</td>\n",
       "      <td>76935</td>\n",
       "    </tr>\n",
       "    <tr>\n",
       "      <th>1</th>\n",
       "      <td>categorize</td>\n",
       "      <td>37701</td>\n",
       "    </tr>\n",
       "    <tr>\n",
       "      <th>2</th>\n",
       "      <td>log</td>\n",
       "      <td>5805</td>\n",
       "    </tr>\n",
       "    <tr>\n",
       "      <th>3</th>\n",
       "      <td>new</td>\n",
       "      <td>4057</td>\n",
       "    </tr>\n",
       "  </tbody>\n",
       "</table>\n",
       "</div>"
      ],
      "text/plain": [
       "         type  count\n",
       "0        edit  76935\n",
       "1  categorize  37701\n",
       "2         log   5805\n",
       "3         new   4057"
      ]
     },
     "metadata": {},
     "output_type": "display_data"
    },
    {
     "data": {
      "image/png": "[encoded data removed]",
      "text/plain": [
       "<Figure size 432x288 with 1 Axes>"
      ]
     },
     "metadata": {},
     "output_type": "display_data"
    }
   ],
   "source": [
    "# Distribution of the change type after the hour change\n",
    "after_categories_df = after_df.groupby('type').size().sort_values(ascending=False).to_frame('count')\n",
    "after_categories_df.reset_index(level=0, inplace=True)\n",
    "after_categories_df.type = after_categories_df.type.map(lambda x: id_to_type[x])\n",
    "\n",
    "sns.set_style('whitegrid')\n",
    "sns.barplot(x='count', y='type', data=after_categories_df).set_title('Changes distribution before hour change')\n",
    "display(after_categories_df)"
   ]
  },
  {
   "cell_type": "code",
   "execution_count": 92,
   "metadata": {},
   "outputs": [
    {
     "data": {
      "text/html": [
       "<div>\n",
       "<style scoped>\n",
       "    .dataframe tbody tr th:only-of-type {\n",
       "        vertical-align: middle;\n",
       "    }\n",
       "\n",
       "    .dataframe tbody tr th {\n",
       "        vertical-align: top;\n",
       "    }\n",
       "\n",
       "    .dataframe thead th {\n",
       "        text-align: right;\n",
       "    }\n",
       "</style>\n",
       "<table border=\"1\" class=\"dataframe\">\n",
       "  <thead>\n",
       "    <tr style=\"text-align: right;\">\n",
       "      <th></th>\n",
       "      <th>type</th>\n",
       "      <th>proportion</th>\n",
       "    </tr>\n",
       "  </thead>\n",
       "  <tbody>\n",
       "    <tr>\n",
       "      <th>0</th>\n",
       "      <td>edit</td>\n",
       "      <td>0.763017</td>\n",
       "    </tr>\n",
       "    <tr>\n",
       "      <th>1</th>\n",
       "      <td>categorize</td>\n",
       "      <td>0.746628</td>\n",
       "    </tr>\n",
       "    <tr>\n",
       "      <th>2</th>\n",
       "      <td>log</td>\n",
       "      <td>0.828576</td>\n",
       "    </tr>\n",
       "    <tr>\n",
       "      <th>3</th>\n",
       "      <td>new</td>\n",
       "      <td>0.668479</td>\n",
       "    </tr>\n",
       "  </tbody>\n",
       "</table>\n",
       "</div>"
      ],
      "text/plain": [
       "         type  proportion\n",
       "0        edit    0.763017\n",
       "1  categorize    0.746628\n",
       "2         log    0.828576\n",
       "3         new    0.668479"
      ]
     },
     "metadata": {},
     "output_type": "display_data"
    }
   ],
   "source": [
    "# Check the proportions between the counts before and after the hour change for each category\n",
    "proportions = after_categories_df['count'] / before_categories_df['count']\n",
    "prop_df = pd.DataFrame({'type': ['edit', 'categorize', 'log', 'new'], 'proportion': proportions})\n",
    "display(prop_df)"
   ]
  },
  {
   "cell_type": "markdown",
   "metadata": {},
   "source": [
    "The distribution of each category seem similar, the difference in numbers being due to the fact that there are more days before than after DST. We could just note that there seems to be a slightly bigger proportion of logs and a smaller proportion of new articles, but the differences are not numerically considerable."
   ]
  },
  {
   "cell_type": "markdown",
   "metadata": {},
   "source": [
    "#### Number of Lines\n",
    "\n",
    "Let's see if there's some modification into the number of lines changed."
   ]
  },
  {
   "cell_type": "code",
   "execution_count": 99,
   "metadata": {},
   "outputs": [
    {
     "name": "stdout",
     "output_type": "stream",
     "text": [
      "Line change statistics before hour change\n"
     ]
    },
    {
     "data": {
      "text/plain": [
       "count    1.008300e+05\n",
       "mean     4.196499e+02\n",
       "std      6.661732e+03\n",
       "min      0.000000e+00\n",
       "25%      7.000000e+00\n",
       "50%      3.700000e+01\n",
       "75%      1.600000e+02\n",
       "max      1.115864e+06\n",
       "Name: lenchanged, dtype: float64"
      ]
     },
     "execution_count": 99,
     "metadata": {},
     "output_type": "execute_result"
    }
   ],
   "source": [
    "# Consider the absolute value in the number of lines changed\n",
    "edit_before = before_df.loc[before_df['type'] == 0].copy()\n",
    "edit_before.loc[:, 'lenchanged'] = edit_before.lenchanged.abs()\n",
    "\n",
    "print('Line change statistics before hour change')\n",
    "edit_before.lenchanged.describe()"
   ]
  },
  {
   "cell_type": "code",
   "execution_count": 100,
   "metadata": {},
   "outputs": [
    {
     "data": {
      "image/png": "[encoded data removed]",
      "text/plain": [
       "<Figure size 1440x360 with 1 Axes>"
      ]
     },
     "metadata": {},
     "output_type": "display_data"
    }
   ],
   "source": [
    "xb = edit_before['timestamp']\n",
    "yb = edit_before['lenchanged']\n",
    "fig = plt.figure(figsize=(20, 5))\n",
    "ax = fig.add_subplot(111)\n",
    "ax.plot(xb, yb)\n",
    "plt.title('Line change before hour change')\n",
    "plt.xlabel('Time')\n",
    "_ = plt.ylabel('Line changes')"
   ]
  },
  {
   "cell_type": "code",
   "execution_count": 101,
   "metadata": {},
   "outputs": [
    {
     "name": "stdout",
     "output_type": "stream",
     "text": [
      "Line change statistics after hour change\n"
     ]
    },
    {
     "data": {
      "text/plain": [
       "count     76935.000000\n",
       "mean        509.104400\n",
       "std        9129.504627\n",
       "min           0.000000\n",
       "25%           7.000000\n",
       "50%          37.000000\n",
       "75%         173.000000\n",
       "max      962125.000000\n",
       "Name: lenchanged, dtype: float64"
      ]
     },
     "execution_count": 101,
     "metadata": {},
     "output_type": "execute_result"
    }
   ],
   "source": [
    "# Consider the absolute value in the number of lines changed\n",
    "edit_after = after_df.loc[after_df['type'] == 0].copy()\n",
    "edit_after.lenchanged = edit_after.lenchanged.abs()\n",
    "\n",
    "print('Line change statistics after hour change')\n",
    "edit_after.lenchanged.describe()"
   ]
  },
  {
   "cell_type": "code",
   "execution_count": 102,
   "metadata": {},
   "outputs": [
    {
     "data": {
      "image/png": "[encoded data removed]",
      "text/plain": [
       "<Figure size 1440x360 with 1 Axes>"
      ]
     },
     "metadata": {},
     "output_type": "display_data"
    }
   ],
   "source": [
    "xa = edit_after['timestamp']\n",
    "ya = edit_after['lenchanged']\n",
    "fig = plt.figure(figsize=(20, 5))\n",
    "ax = fig.add_subplot(111)\n",
    "ax.plot(xa, ya)\n",
    "plt.title('Line change after hour change')\n",
    "plt.xlabel('Time')\n",
    "_ = plt.ylabel('Line changes')"
   ]
  },
  {
   "cell_type": "markdown",
   "metadata": {},
   "source": [
    "Analysing visually, we can see that number of peaks in the edits done after the hour change is higher than for the period before the hour change."
   ]
  },
  {
   "cell_type": "markdown",
   "metadata": {},
   "source": [
    "### Summary\n",
    "\n",
    "#### Data Handle\n",
    "The dataset that we collected is quite small (53MB), therefore we don't need to make use of Spark in order to handle it.\n",
    "\n",
    "In what comes next, we plan to collect more data, so that we can better understand the behaviour evolution before and after the hour change.\n",
    "\n",
    "#### Understanding the Data\n",
    "After cleaning and formatting our data to achieve the best possible interpretation, we began to analyze it.\n",
    "Despite some correlation with no real causality, we have been able to better understand which analysis we should focus on: the dataset is relatively small and the features obtained do not carry a lot of information, we will focus on the activity of people through the amount of data modified before and after the time change.\n",
    "\n",
    "#### Transform the Data\n",
    "To improve the accuracy of our work, users' data can be cross-referenced to get their geographic coordinates and get a more accurate idea of the effects of time changes on specific geographic areas.\n",
    "\n",
    "#### Methodology\n",
    "Getting a complete analysis with only this dataset is impossible considering its size. This is why it will serve as a validation set for the analysis that we will perform in the data that we are going to collect.\n",
    "We will therefore split this dataset in a short time interval in order to perform an analysis of the activity on the type of changes of the articles and on the amount of information modified, around the date of the hour change."
   ]
  },
  {
   "cell_type": "markdown",
   "metadata": {},
   "source": [
    "### Larger dataset follow-up\n",
    "\n",
    "In what comes next, we decided to collect a larger dataset comprising all the changes done in the week before and the week after the winter hour change for this year. For this, we once again used the Wikipedia API described above to collect a total of 595 MB of data. Due to the size of the new dataset, we will make use of Spark this time."
   ]
  },
  {
   "cell_type": "code",
   "execution_count": 3,
   "metadata": {},
   "outputs": [],
   "source": [
    "# Load the data\n",
    "EXTENDED_DATA = \"wikiExtendedData.json\"\n",
    "wiki_df = spark.read.json(EXTENDED_DATA)"
   ]
  },
  {
   "cell_type": "code",
   "execution_count": 5,
   "metadata": {},
   "outputs": [
    {
     "name": "stdout",
     "output_type": "stream",
     "text": [
      "root\n",
      " |-- actionhidden: string (nullable = true)\n",
      " |-- anon: string (nullable = true)\n",
      " |-- newlen: long (nullable = true)\n",
      " |-- old_revid: long (nullable = true)\n",
      " |-- oldlen: long (nullable = true)\n",
      " |-- pageid: long (nullable = true)\n",
      " |-- rcid: long (nullable = true)\n",
      " |-- revid: long (nullable = true)\n",
      " |-- suppressed: string (nullable = true)\n",
      " |-- timestamp: string (nullable = true)\n",
      " |-- type: string (nullable = true)\n",
      " |-- userhidden: string (nullable = true)\n",
      " |-- userid: long (nullable = true)\n",
      "\n",
      "+------------+----+------+---------+------+-------+----------+---------+----------+--------------------+----------+----------+--------+\n",
      "|actionhidden|anon|newlen|old_revid|oldlen| pageid|      rcid|    revid|suppressed|           timestamp|      type|userhidden|  userid|\n",
      "+------------+----+------+---------+------+-------+----------+---------+----------+--------------------+----------+----------+--------+\n",
      "|        null|null|  1231|752810129|  1163|8995512|1100026980|866209155|      null|2018-10-29T00:00:00Z|      edit|      null|23515484|\n",
      "|        null|null|     0|752810129|     0|8995512|1100026984|866209155|      null|2018-10-29T00:00:00Z|categorize|      null|23515484|\n",
      "|        null|null|     0|752810129|     0|8995512|1100026985|866209155|      null|2018-10-29T00:00:00Z|categorize|      null|23515484|\n",
      "|        null|null|     0|752810129|     0|8995512|1100026986|866209155|      null|2018-10-29T00:00:00Z|categorize|      null|23515484|\n",
      "|        null|null|     0|752810129|     0|8995512|1100026987|866209155|      null|2018-10-29T00:00:00Z|categorize|      null|23515484|\n",
      "|        null|null|     0|752810129|     0|8995512|1100026988|866209155|      null|2018-10-29T00:00:00Z|categorize|      null|23515484|\n",
      "|        null|null|     0|752810129|     0|8995512|1100026989|866209155|      null|2018-10-29T00:00:00Z|categorize|      null|23515484|\n",
      "|        null|null|     0|752810129|     0|8995512|1100026990|866209155|      null|2018-10-29T00:00:00Z|categorize|      null|23515484|\n",
      "|        null|null|     0|752810129|     0|8995512|1100026991|866209155|      null|2018-10-29T00:00:00Z|categorize|      null|23515484|\n",
      "|        null|null|     0|752810129|     0|8995512|1100026992|866209155|      null|2018-10-29T00:00:00Z|categorize|      null|23515484|\n",
      "+------------+----+------+---------+------+-------+----------+---------+----------+--------------------+----------+----------+--------+\n",
      "only showing top 10 rows\n",
      "\n"
     ]
    }
   ],
   "source": [
    "# Inspect the data format\n",
    "wiki_df.printSchema()\n",
    "wiki_df.show(10)"
   ]
  },
  {
   "cell_type": "code",
   "execution_count": 6,
   "metadata": {},
   "outputs": [],
   "source": [
    "# Register view to do SQL queries\n",
    "wiki_df.createOrReplaceTempView(\"Wiki\")"
   ]
  },
  {
   "cell_type": "code",
   "execution_count": 9,
   "metadata": {},
   "outputs": [
    {
     "name": "stdout",
     "output_type": "stream",
     "text": [
      "+----------+-------------+\n",
      "|PostsCount|         Date|\n",
      "+----------+-------------+\n",
      "|     10145|2018-10-29T01|\n",
      "|     10620|2018-10-29T02|\n",
      "|      9539|2018-10-29T03|\n",
      "|     10640|2018-10-29T04|\n",
      "|      7778|2018-10-29T05|\n",
      "|      6851|2018-10-29T06|\n",
      "|      6183|2018-10-29T07|\n",
      "|      6057|2018-10-29T08|\n",
      "|      7795|2018-10-29T09|\n",
      "|      6912|2018-10-29T10|\n",
      "+----------+-------------+\n",
      "only showing top 10 rows\n",
      "\n"
     ]
    }
   ],
   "source": [
    "posts_date = spark.sql(f\"\"\"SELECT COUNT(*) AS PostsCount,\n",
    "            DATE_FORMAT(timestamp, \"yyyy-MM-dd'T'HH\") as Date\n",
    "            FROM Wiki\n",
    "            GROUP BY Date\n",
    "            ORDER BY Date ASC\"\"\")\n",
    "\n",
    "posts_date.show(10)"
   ]
  },
  {
   "cell_type": "code",
   "execution_count": 11,
   "metadata": {},
   "outputs": [],
   "source": [
    "posts_date_df = posts_date.toPandas()\n",
    "posts_date_df['Hour'] = posts_date_df['Date'].apply(lambda x: x.split('T')[1])"
   ]
  },
  {
   "cell_type": "code",
   "execution_count": 25,
   "metadata": {},
   "outputs": [],
   "source": [
    "# Split data in before and after the hour change\n",
    "before_df = posts_date_df[:167]\n",
    "after_df = posts_date_df[167:]\n",
    "\n",
    "before_df = before_df.groupby('Hour').mean()\n",
    "after_df = after_df.groupby('Hour').mean()"
   ]
  },
  {
   "cell_type": "code",
   "execution_count": 28,
   "metadata": {},
   "outputs": [
    {
     "data": {
      "image/png": "[encoded data removed]",
      "text/plain": [
       "<Figure size 864x432 with 2 Axes>"
      ]
     },
     "metadata": {},
     "output_type": "display_data"
    }
   ],
   "source": [
    "# Plot the count distributions\n",
    "f, arr = plt.subplots(1, 2, sharey=True)\n",
    "f.suptitle(f'Change counts before and after winter hour change 2018')\n",
    "f.set_figwidth(12)\n",
    "f.set_figheight(6)\n",
    "before_df.groupby('Hour').mean().reset_index().plot.bar(ax=arr[0], x='Hour', y='PostsCount',\n",
    "                                                        title='Before', color='blue')\n",
    "_ = after_df.groupby('Hour').mean().reset_index().plot.bar(ax=arr[1], x='Hour', y='PostsCount',\n",
    "                                                           title='After', color='blue')"
   ]
  },
  {
   "cell_type": "markdown",
   "metadata": {},
   "source": [
    "As expected, we again see a shift of the peak of the distribution towards the right, from 7 pm to 8 pm."
   ]
  },
  {
   "cell_type": "markdown",
   "metadata": {},
   "source": [
    "## Plans for milestone 3\n",
    "\n",
    "As it can be seen, we have just started analysing the data, looking mainly for the number of posts for the Stack overflow dataset and the number of changes in Wikipedia respectively. In what is to come, we want:\n",
    "- to look more carefully in day-to-day patterns and discover if there is a smooth or abrupt transition to the new hour\n",
    "- to make a more thorough analysis of the quality of the posts in Stack Overflow in terms of their scores\n",
    "- analyze the changes distribution in Wikipedia with other methods other than visual observation\n",
    "- maybe find a new dataset for which we also have the timezone for the users that posted"
   ]
  }
 ],
 "metadata": {
  "kernelspec": {
   "display_name": "Python 3",
   "language": "python",
   "name": "python3"
  },
  "language_info": {
   "codemirror_mode": {
    "name": "ipython",
    "version": 3
   },
   "file_extension": ".py",
   "mimetype": "text/x-python",
   "name": "python",
   "nbconvert_exporter": "python",
   "pygments_lexer": "ipython3",
   "version": "3.6.4"
  }
 },
 "nbformat": 4,
 "nbformat_minor": 2
}
